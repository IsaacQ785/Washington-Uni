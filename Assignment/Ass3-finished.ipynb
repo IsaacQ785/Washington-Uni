{
  "nbformat": 4,
  "nbformat_minor": 0,
  "metadata": {
    "colab": {
      "name": "Untitled3.ipynb",
      "provenance": [],
      "collapsed_sections": [],
      "authorship_tag": "ABX9TyNBQIff1Rnv90/3XtC5JkZh",
      "include_colab_link": true
    },
    "kernelspec": {
      "name": "python3",
      "display_name": "Python 3"
    }
  },
  "cells": [
    {
      "cell_type": "markdown",
      "metadata": {
        "id": "view-in-github",
        "colab_type": "text"
      },
      "source": [
        "<a href=\"https://colab.research.google.com/github/IsaacQ785/Washington-Uni/blob/Assignments/Assignment/Ass3-finished.ipynb\" target=\"_parent\"><img src=\"https://colab.research.google.com/assets/colab-badge.svg\" alt=\"Open In Colab\"/></a>"
      ]
    },
    {
      "cell_type": "code",
      "metadata": {
        "id": "nrgRbSakLEFM"
      },
      "source": [
        "import os\r\n",
        "import pandas as pd\r\n",
        "from scipy.stats import zscore\r\n",
        "\r\n",
        "# This is your student key that I emailed to you at the beginnning of the semester.\r\n",
        "key = \"Gx5en9cEVvaZnjut6vfLm1HG4ZO4PsI32sgldAXj\"  # This is an example key and will not work.\r\n",
        "\r\n",
        "# You must also identify your source file.  (modify for your local setup)\r\n",
        "# file='/content/drive/My Drive/Colab Notebooks/assignment_yourname_class3.ipynb'  # Google CoLab\r\n",
        "# file='C:\\\\Users\\\\jeffh\\\\projects\\\\t81_558_deep_learning\\\\assignments\\\\assignment_yourname_class3.ipynb'  # Windows\r\n",
        "file='/Users/jheaton/projects/t81_558_deep_learning/assignments/assignment_yourname_class3.ipynb'  # Mac/Linux\r\n",
        "\r\n",
        "# Begin assignment\r\n",
        "\r\n",
        "df = pd.read_csv(\"https://data.heatonresearch.com/data/t81-558/datasets/series-31.csv\")\r\n",
        "df['time'] = pd.to_datetime(df['time'], errors='coerce')\r\n",
        "\r\n",
        "# Your code goes here.\r\n",
        "\r\n",
        "df.sort_values(by=[\"time\"],inplace=True)\r\n",
        "df[\"time\"]\r\n",
        "s = df[\"time\"]\r\n",
        "## Max\r\n",
        "\r\n",
        "max_df = df.groupby(df[\"time\"].dt.floor(\"d\")).max()\r\n",
        "max_df.rename({\"time\":\"time\",\"value\":\"max\"},axis=\"columns\",inplace=True)\r\n",
        "## Min\r\n",
        "\r\n",
        "min_df = df.groupby(df[\"time\"].dt.floor(\"d\")).min()\r\n",
        "min_df.rename({\"time\":\"time\",\"value\":\"min\"},axis=\"columns\",inplace=True)\r\n",
        "\r\n",
        "## Start & End\r\n",
        "\r\n",
        "first_df = df.groupby(df[\"time\"].dt.floor(\"d\")).first()\r\n",
        "first_df.rename({\"time\":\"time\",\"value\":\"starting\"},axis=\"columns\",inplace=True)\r\n",
        "\r\n",
        "last_df = df.groupby(df[\"time\"].dt.floor(\"d\")).last()\r\n",
        "last_df.rename({\"time\":\"time\",\"value\":\"ending\"},axis=\"columns\",inplace=True)\r\n",
        "\r\n",
        "summary_df = first_df\r\n",
        "summary_df[\"time\"] = pd.to_datetime(summary_df[\"time\"]).dt.date\r\n",
        "summary_df = pd.concat([summary_df,max_df[\"max\"],min_df[\"min\"],last_df[\"ending\"]],axis=1)\r\n",
        "\r\n",
        "\r\n"
      ],
      "execution_count": 51,
      "outputs": []
    }
  ]
}