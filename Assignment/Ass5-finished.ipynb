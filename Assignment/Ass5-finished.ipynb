{
  "nbformat": 4,
  "nbformat_minor": 0,
  "metadata": {
    "colab": {
      "name": "Untitled",
      "provenance": [],
      "authorship_tag": "ABX9TyM7YQVQZUg3yeZRe+lV8+OP",
      "include_colab_link": true
    },
    "kernelspec": {
      "name": "python3",
      "display_name": "Python 3"
    }
  },
  "cells": [
    {
      "cell_type": "markdown",
      "metadata": {
        "id": "view-in-github",
        "colab_type": "text"
      },
      "source": [
        "<a href=\"https://colab.research.google.com/github/IsaacQ785/Washington-Uni/blob/Assignments/Assignment/Ass5-finished.ipynb\" target=\"_parent\"><img src=\"https://colab.research.google.com/assets/colab-badge.svg\" alt=\"Open In Colab\"/></a>"
      ]
    },
    {
      "cell_type": "code",
      "metadata": {
        "id": "_PwD7NjeRsTs",
        "colab": {
          "base_uri": "https://localhost:8080/",
          "height": 450
        },
        "outputId": "e33d68e2-29e9-4b76-9703-6490b810cd07"
      },
      "source": [
        "import os\r\n",
        "import pandas as pd\r\n",
        "from scipy.stats import zscore\r\n",
        "from tensorflow.keras.models import Sequential\r\n",
        "from tensorflow.keras.layers import Dense, Activation, Dropout\r\n",
        "import pandas as pd\r\n",
        "import io\r\n",
        "import requests\r\n",
        "import numpy as np\r\n",
        "from sklearn import metrics\r\n",
        "from sklearn.model_selection import KFold\r\n",
        "from tensorflow.keras.callbacks import EarlyStopping, ModelCheckpoint\r\n",
        "from scipy.stats import zscore\r\n",
        "from sklearn.model_selection import train_test_split as tts\r\n",
        "\r\n",
        "# This is your student key that I emailed to you at the beginnning of the semester.\r\n",
        "key = \"Gx5en9cEVvaZnjut6vfLm1HG4ZdddsI32sgldAXj\"  # This is an example key and will not work.\r\n",
        "\r\n",
        "# You must also identify your source file.  (modify for your local setup)\r\n",
        "file='/content/drive/My Drive/Colab Notebooks/assignment_yourname_class5.ipynb'  # Google CoLab\r\n",
        "# file='C:\\\\Users\\\\jeffh\\\\projects\\\\t81_558_deep_learning\\\\assignments\\\\assignment_yourname_class5.ipynb'  # Windows\r\n",
        "# file='/Users/jheaton/projects/t81_558_deep_learning/assignments/assignment_yourname_class5.ipynb'  # Mac/Linux\r\n",
        "\r\n",
        "# Begin assignment\r\n",
        "df_houses_train = pd.read_csv(\"https://data.heatonresearch.com/data/t81-558/datasets/houses_train.csv\",index_col=\"id\")\r\n",
        "df_houses_submit = pd.read_csv(\"https://data.heatonresearch.com/data/t81-558/datasets/houses_test.csv\")\r\n",
        "df_zips = pd.read_csv(\"https://data.heatonresearch.com/data/t81-558/datasets/zips.csv\",index_col=\"zip\")\r\n",
        "\r\n",
        "vals = df_houses_train[\"zip\"].values\r\n",
        "\r\n",
        "incs = pd.Series(df_zips.median_income.values,index=df_zips.index).to_dict()\r\n",
        "\r\n",
        "df_houses_train[\"med_inc\"] = df_houses_train[\"zip\"].map(incs)\r\n",
        "df_houses_train"
      ],
      "execution_count": 69,
      "outputs": [
        {
          "output_type": "execute_result",
          "data": {
            "text/html": [
              "<div>\n",
              "<style scoped>\n",
              "    .dataframe tbody tr th:only-of-type {\n",
              "        vertical-align: middle;\n",
              "    }\n",
              "\n",
              "    .dataframe tbody tr th {\n",
              "        vertical-align: top;\n",
              "    }\n",
              "\n",
              "    .dataframe thead th {\n",
              "        text-align: right;\n",
              "    }\n",
              "</style>\n",
              "<table border=\"1\" class=\"dataframe\">\n",
              "  <thead>\n",
              "    <tr style=\"text-align: right;\">\n",
              "      <th></th>\n",
              "      <th>zip</th>\n",
              "      <th>bedrooms</th>\n",
              "      <th>bathrooms</th>\n",
              "      <th>garage</th>\n",
              "      <th>land</th>\n",
              "      <th>sqft</th>\n",
              "      <th>price</th>\n",
              "      <th>med_inc</th>\n",
              "    </tr>\n",
              "    <tr>\n",
              "      <th>id</th>\n",
              "      <th></th>\n",
              "      <th></th>\n",
              "      <th></th>\n",
              "      <th></th>\n",
              "      <th></th>\n",
              "      <th></th>\n",
              "      <th></th>\n",
              "      <th></th>\n",
              "    </tr>\n",
              "  </thead>\n",
              "  <tbody>\n",
              "    <tr>\n",
              "      <th>1</th>\n",
              "      <td>60019</td>\n",
              "      <td>9</td>\n",
              "      <td>2</td>\n",
              "      <td>3</td>\n",
              "      <td>2.198</td>\n",
              "      <td>4860</td>\n",
              "      <td>1005580</td>\n",
              "      <td>125901</td>\n",
              "    </tr>\n",
              "    <tr>\n",
              "      <th>2</th>\n",
              "      <td>60049</td>\n",
              "      <td>5</td>\n",
              "      <td>2</td>\n",
              "      <td>2</td>\n",
              "      <td>4.517</td>\n",
              "      <td>2870</td>\n",
              "      <td>620278</td>\n",
              "      <td>236931</td>\n",
              "    </tr>\n",
              "    <tr>\n",
              "      <th>3</th>\n",
              "      <td>60011</td>\n",
              "      <td>2</td>\n",
              "      <td>1</td>\n",
              "      <td>0</td>\n",
              "      <td>4.120</td>\n",
              "      <td>1220</td>\n",
              "      <td>265711</td>\n",
              "      <td>211118</td>\n",
              "    </tr>\n",
              "    <tr>\n",
              "      <th>4</th>\n",
              "      <td>60027</td>\n",
              "      <td>6</td>\n",
              "      <td>4</td>\n",
              "      <td>2</td>\n",
              "      <td>3.201</td>\n",
              "      <td>3810</td>\n",
              "      <td>819916</td>\n",
              "      <td>419118</td>\n",
              "    </tr>\n",
              "    <tr>\n",
              "      <th>5</th>\n",
              "      <td>60001</td>\n",
              "      <td>9</td>\n",
              "      <td>3</td>\n",
              "      <td>2</td>\n",
              "      <td>1.347</td>\n",
              "      <td>5061</td>\n",
              "      <td>1039491</td>\n",
              "      <td>205564</td>\n",
              "    </tr>\n",
              "    <tr>\n",
              "      <th>...</th>\n",
              "      <td>...</td>\n",
              "      <td>...</td>\n",
              "      <td>...</td>\n",
              "      <td>...</td>\n",
              "      <td>...</td>\n",
              "      <td>...</td>\n",
              "      <td>...</td>\n",
              "      <td>...</td>\n",
              "    </tr>\n",
              "    <tr>\n",
              "      <th>9996</th>\n",
              "      <td>60028</td>\n",
              "      <td>1</td>\n",
              "      <td>1</td>\n",
              "      <td>0</td>\n",
              "      <td>2.244</td>\n",
              "      <td>709</td>\n",
              "      <td>145421</td>\n",
              "      <td>124015</td>\n",
              "    </tr>\n",
              "    <tr>\n",
              "      <th>9997</th>\n",
              "      <td>60022</td>\n",
              "      <td>1</td>\n",
              "      <td>1</td>\n",
              "      <td>0</td>\n",
              "      <td>2.700</td>\n",
              "      <td>688</td>\n",
              "      <td>175004</td>\n",
              "      <td>439046</td>\n",
              "    </tr>\n",
              "    <tr>\n",
              "      <th>9998</th>\n",
              "      <td>60003</td>\n",
              "      <td>7</td>\n",
              "      <td>2</td>\n",
              "      <td>2</td>\n",
              "      <td>2.011</td>\n",
              "      <td>3944</td>\n",
              "      <td>813447</td>\n",
              "      <td>145929</td>\n",
              "    </tr>\n",
              "    <tr>\n",
              "      <th>9999</th>\n",
              "      <td>60035</td>\n",
              "      <td>9</td>\n",
              "      <td>7</td>\n",
              "      <td>3</td>\n",
              "      <td>1.768</td>\n",
              "      <td>5881</td>\n",
              "      <td>1208882</td>\n",
              "      <td>138423</td>\n",
              "    </tr>\n",
              "    <tr>\n",
              "      <th>10000</th>\n",
              "      <td>60017</td>\n",
              "      <td>4</td>\n",
              "      <td>1</td>\n",
              "      <td>1</td>\n",
              "      <td>2.377</td>\n",
              "      <td>2201</td>\n",
              "      <td>446179</td>\n",
              "      <td>40945</td>\n",
              "    </tr>\n",
              "  </tbody>\n",
              "</table>\n",
              "<p>10000 rows × 8 columns</p>\n",
              "</div>"
            ],
            "text/plain": [
              "         zip  bedrooms  bathrooms  garage   land  sqft    price  med_inc\n",
              "id                                                                      \n",
              "1      60019         9          2       3  2.198  4860  1005580   125901\n",
              "2      60049         5          2       2  4.517  2870   620278   236931\n",
              "3      60011         2          1       0  4.120  1220   265711   211118\n",
              "4      60027         6          4       2  3.201  3810   819916   419118\n",
              "5      60001         9          3       2  1.347  5061  1039491   205564\n",
              "...      ...       ...        ...     ...    ...   ...      ...      ...\n",
              "9996   60028         1          1       0  2.244   709   145421   124015\n",
              "9997   60022         1          1       0  2.700   688   175004   439046\n",
              "9998   60003         7          2       2  2.011  3944   813447   145929\n",
              "9999   60035         9          7       3  1.768  5881  1208882   138423\n",
              "10000  60017         4          1       1  2.377  2201   446179    40945\n",
              "\n",
              "[10000 rows x 8 columns]"
            ]
          },
          "metadata": {
            "tags": []
          },
          "execution_count": 69
        }
      ]
    },
    {
      "cell_type": "code",
      "metadata": {
        "colab": {
          "base_uri": "https://localhost:8080/",
          "height": 204
        },
        "id": "XTyTzT-kNpT7",
        "outputId": "9ff99fe1-c8b2-4e83-a17b-84e06eb82bbc"
      },
      "source": [
        "df_houses_submit.head()"
      ],
      "execution_count": 67,
      "outputs": [
        {
          "output_type": "execute_result",
          "data": {
            "text/html": [
              "<div>\n",
              "<style scoped>\n",
              "    .dataframe tbody tr th:only-of-type {\n",
              "        vertical-align: middle;\n",
              "    }\n",
              "\n",
              "    .dataframe tbody tr th {\n",
              "        vertical-align: top;\n",
              "    }\n",
              "\n",
              "    .dataframe thead th {\n",
              "        text-align: right;\n",
              "    }\n",
              "</style>\n",
              "<table border=\"1\" class=\"dataframe\">\n",
              "  <thead>\n",
              "    <tr style=\"text-align: right;\">\n",
              "      <th></th>\n",
              "      <th>id</th>\n",
              "      <th>zip</th>\n",
              "      <th>bedrooms</th>\n",
              "      <th>bathrooms</th>\n",
              "      <th>garage</th>\n",
              "      <th>land</th>\n",
              "      <th>sqft</th>\n",
              "    </tr>\n",
              "  </thead>\n",
              "  <tbody>\n",
              "    <tr>\n",
              "      <th>0</th>\n",
              "      <td>10001</td>\n",
              "      <td>60027</td>\n",
              "      <td>8</td>\n",
              "      <td>6</td>\n",
              "      <td>2</td>\n",
              "      <td>2.901</td>\n",
              "      <td>5237</td>\n",
              "    </tr>\n",
              "    <tr>\n",
              "      <th>1</th>\n",
              "      <td>10002</td>\n",
              "      <td>60026</td>\n",
              "      <td>7</td>\n",
              "      <td>2</td>\n",
              "      <td>2</td>\n",
              "      <td>2.455</td>\n",
              "      <td>3929</td>\n",
              "    </tr>\n",
              "    <tr>\n",
              "      <th>2</th>\n",
              "      <td>10003</td>\n",
              "      <td>60036</td>\n",
              "      <td>2</td>\n",
              "      <td>1</td>\n",
              "      <td>0</td>\n",
              "      <td>4.213</td>\n",
              "      <td>1200</td>\n",
              "    </tr>\n",
              "    <tr>\n",
              "      <th>3</th>\n",
              "      <td>10004</td>\n",
              "      <td>60016</td>\n",
              "      <td>2</td>\n",
              "      <td>1</td>\n",
              "      <td>0</td>\n",
              "      <td>0.537</td>\n",
              "      <td>1152</td>\n",
              "    </tr>\n",
              "    <tr>\n",
              "      <th>4</th>\n",
              "      <td>10005</td>\n",
              "      <td>60044</td>\n",
              "      <td>3</td>\n",
              "      <td>1</td>\n",
              "      <td>1</td>\n",
              "      <td>3.014</td>\n",
              "      <td>1681</td>\n",
              "    </tr>\n",
              "  </tbody>\n",
              "</table>\n",
              "</div>"
            ],
            "text/plain": [
              "      id    zip  bedrooms  bathrooms  garage   land  sqft\n",
              "0  10001  60027         8          6       2  2.901  5237\n",
              "1  10002  60026         7          2       2  2.455  3929\n",
              "2  10003  60036         2          1       0  4.213  1200\n",
              "3  10004  60016         2          1       0  0.537  1152\n",
              "4  10005  60044         3          1       1  3.014  1681"
            ]
          },
          "metadata": {
            "tags": []
          },
          "execution_count": 67
        }
      ]
    },
    {
      "cell_type": "code",
      "metadata": {
        "id": "vt29oC3UEnBS"
      },
      "source": [
        "df_houses_train.drop(\"zip\",axis=1,inplace=True)"
      ],
      "execution_count": 71,
      "outputs": []
    },
    {
      "cell_type": "code",
      "metadata": {
        "id": "jwPraoX8JYs6"
      },
      "source": [
        "x = df_houses_train.drop(\"price\",axis=1).values\r\n",
        "y = df_houses_train[\"price\"].values"
      ],
      "execution_count": 72,
      "outputs": []
    },
    {
      "cell_type": "code",
      "metadata": {
        "colab": {
          "base_uri": "https://localhost:8080/"
        },
        "id": "YyeCpGw9Mglr",
        "outputId": "38f8140f-f6d4-4625-a99f-b636c9b07d3f"
      },
      "source": [
        "x_train, x_test,y_train, y_test = tts(x,y,test_size=0.2,random_state=27)\r\n",
        "model = Sequential()\r\n",
        "n = 50\r\n",
        "model.add(Dense(n,input_dim=x_train.shape[1],activation=\"relu\"))\r\n",
        "model.add(Dense(n/2,activation=\"relu\"))\r\n",
        "model.add(Dense(1))\r\n",
        "model.compile(optimizer=\"adam\",loss=\"mse\")\r\n",
        "monitor = EarlyStopping(monitor=\"val_loss\",min_delta=1e-3, patience=5,restore_best_weights=True)\r\n",
        "model.fit(x_train,y_train,validation_data=(x_test,y_test),callbacks=[monitor],epochs=1000,verbose=0)"
      ],
      "execution_count": 126,
      "outputs": [
        {
          "output_type": "execute_result",
          "data": {
            "text/plain": [
              "<tensorflow.python.keras.callbacks.History at 0x7f40d9ae9908>"
            ]
          },
          "metadata": {
            "tags": []
          },
          "execution_count": 126
        }
      ]
    },
    {
      "cell_type": "code",
      "metadata": {
        "colab": {
          "base_uri": "https://localhost:8080/"
        },
        "id": "ZXEZBd2uEnGB",
        "outputId": "be4b9a67-dbf2-45a9-ea28-c5f14dce54bf"
      },
      "source": [
        "score = metrics.mean_absolute_error(model.predict(x_test),y_test)\r\n",
        "print(score)\r\n"
      ],
      "execution_count": 127,
      "outputs": [
        {
          "output_type": "stream",
          "text": [
            "6577.0478515625\n"
          ],
          "name": "stdout"
        }
      ]
    },
    {
      "cell_type": "code",
      "metadata": {
        "colab": {
          "base_uri": "https://localhost:8080/",
          "height": 511
        },
        "id": "21cV5adNP1iK",
        "outputId": "9840b416-d6ac-40de-a51a-855929a27323"
      },
      "source": [
        "import matplotlib.pyplot as plt\r\n",
        "\r\n",
        "vals = model.predict(x_test)\r\n",
        "nums = [val[0] for val in vals]\r\n",
        "pred = [num for _,num in sorted(zip(y_test,nums))]\r\n",
        "ys = sorted(y_test)\r\n",
        "fig = plt.figure(figsize=[8,8])\r\n",
        "ax = fig.add_subplot(1,1,1)\r\n",
        "ax.plot(ys)\r\n",
        "ax.plot(pred)"
      ],
      "execution_count": 128,
      "outputs": [
        {
          "output_type": "execute_result",
          "data": {
            "text/plain": [
              "[<matplotlib.lines.Line2D at 0x7f40e1c33898>]"
            ]
          },
          "metadata": {
            "tags": []
          },
          "execution_count": 128
        },
        {
          "output_type": "display_data",
          "data": {
            "image/png": "[encoded data removed]",
            "text/plain": [
              "<Figure size 576x576 with 1 Axes>"
            ]
          },
          "metadata": {
            "tags": [],
            "needs_background": "light"
          }
        }
      ]
    }
  ]
}