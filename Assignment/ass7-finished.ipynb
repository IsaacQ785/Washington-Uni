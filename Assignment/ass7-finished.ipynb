{
  "nbformat": 4,
  "nbformat_minor": 0,
  "metadata": {
    "colab": {
      "name": "Untitled0.ipynb",
      "provenance": [],
      "collapsed_sections": [],
      "authorship_tag": "ABX9TyP4AKYvlCJ4O68S1Rqsi1Ii",
      "include_colab_link": true
    },
    "kernelspec": {
      "name": "python3",
      "display_name": "Python 3"
    },
    "accelerator": "GPU"
  },
  "cells": [
    {
      "cell_type": "markdown",
      "metadata": {
        "id": "view-in-github",
        "colab_type": "text"
      },
      "source": [
        "<a href=\"https://colab.research.google.com/github/IsaacQ785/Washington-Uni/blob/Assignments/Assignment/ass7-finished.ipynb\" target=\"_parent\"><img src=\"https://colab.research.google.com/assets/colab-badge.svg\" alt=\"Open In Colab\"/></a>"
      ]
    },
    {
      "cell_type": "code",
      "metadata": {
        "colab": {
          "base_uri": "https://localhost:8080/"
        },
        "id": "SOyiSGr1hA4g",
        "outputId": "64940881-d062-4222-873c-5eca6970e624"
      },
      "source": [
        "try:\r\n",
        "    from google.colab import drive\r\n",
        "    drive.mount('/content/drive', force_remount=True)\r\n",
        "    COLAB = True\r\n",
        "    print(\"Note: using Google CoLab\")\r\n",
        "    %tensorflow_version 2.x\r\n",
        "except:\r\n",
        "    print(\"Note: not using Google CoLab\")\r\n",
        "    COLAB = False\r\n",
        "\r\n",
        "# Nicely formatted time string\r\n",
        "def hms_string(sec_elapsed):\r\n",
        "    h = int(sec_elapsed / (60 * 60))\r\n",
        "    m = int((sec_elapsed % (60 * 60)) / 60)\r\n",
        "    s = sec_elapsed % 60\r\n",
        "    return f\"{h}:{m:>02}:{s:>05.2f}\""
      ],
      "execution_count": 1,
      "outputs": [
        {
          "output_type": "stream",
          "text": [
            "Mounted at /content/drive\n",
            "Note: using Google CoLab\n"
          ],
          "name": "stdout"
        }
      ]
    },
    {
      "cell_type": "code",
      "metadata": {
        "colab": {
          "base_uri": "https://localhost:8080/"
        },
        "id": "E3uTKfvhhEy7",
        "outputId": "60ae917c-e4a8-452a-d808-9c352f6a6190"
      },
      "source": [
        "import sys\r\n",
        "\r\n",
        "!{sys.executable} -m pip install git+https://github.com/zzh8829/yolov3-tf2.git@master"
      ],
      "execution_count": 2,
      "outputs": [
        {
          "output_type": "stream",
          "text": [
            "Collecting git+https://github.com/zzh8829/yolov3-tf2.git@master\n",
            "  Cloning https://github.com/zzh8829/yolov3-tf2.git (to revision master) to /tmp/pip-req-build-tfl3ds8n\n",
            "  Running command git clone -q https://github.com/zzh8829/yolov3-tf2.git /tmp/pip-req-build-tfl3ds8n\n",
            "Building wheels for collected packages: yolov3-tf2\n",
            "  Building wheel for yolov3-tf2 (setup.py) ... \u001b[?25l\u001b[?25hdone\n",
            "  Created wheel for yolov3-tf2: filename=yolov3_tf2-0.1-cp36-none-any.whl size=8846 sha256=3c6e855c48b0680007cef2c52965723e67f0267325e80f4bf5efaf3647b1ce69\n",
            "  Stored in directory: /tmp/pip-ephem-wheel-cache-xadfue52/wheels/59/1b/97/905ab51e9c0330efe8c3c518aff17de4ee91100412cd6dd553\n",
            "Successfully built yolov3-tf2\n",
            "Installing collected packages: yolov3-tf2\n",
            "Successfully installed yolov3-tf2-0.1\n"
          ],
          "name": "stdout"
        }
      ]
    },
    {
      "cell_type": "code",
      "metadata": {
        "colab": {
          "base_uri": "https://localhost:8080/"
        },
        "id": "QINeX9fshE1n",
        "outputId": "0f7d74c0-9767-4fd0-cb26-cb020a2504a6"
      },
      "source": [
        "import tensorflow as tf\r\n",
        "import os\r\n",
        "\r\n",
        "if COLAB:\r\n",
        "  ROOT = '/content/drive/My Drive/projects/t81_558_dlearning/yolo'\r\n",
        "else:\r\n",
        "  ROOT = os.path.join(os.getcwd(),'data')\r\n",
        "\r\n",
        "filename_darknet_weights = tf.keras.utils.get_file(\r\n",
        "    os.path.join(ROOT,'yolov3.weights'),\r\n",
        "    origin='https://pjreddie.com/media/files/yolov3.weights')\r\n",
        "TINY = False\r\n",
        "\r\n",
        "filename_convert_script = tf.keras.utils.get_file(\r\n",
        "    os.path.join(os.getcwd(),'convert.py'),\r\n",
        "    origin='https://raw.githubusercontent.com/zzh8829/yolov3-tf2/master/convert.py')\r\n",
        "\r\n",
        "filename_classes = tf.keras.utils.get_file(\r\n",
        "    os.path.join(ROOT,'coco.names'),\r\n",
        "    origin='https://raw.githubusercontent.com/zzh8829/yolov3-tf2/master/data/coco.names')\r\n",
        "filename_converted_weights = os.path.join(ROOT,'yolov3.tf')"
      ],
      "execution_count": 3,
      "outputs": [
        {
          "output_type": "stream",
          "text": [
            "Downloading data from https://raw.githubusercontent.com/zzh8829/yolov3-tf2/master/convert.py\n",
            "8192/1277 [================================================================================================================================================================================================] - 0s 0us/step\n"
          ],
          "name": "stdout"
        }
      ]
    },
    {
      "cell_type": "code",
      "metadata": {
        "colab": {
          "base_uri": "https://localhost:8080/"
        },
        "id": "2_8C-jK-hE4M",
        "outputId": "56d30cab-8473-4aa3-cd4e-c7ba28bd902b"
      },
      "source": [
        "import sys\r\n",
        "!{sys.executable} \"{filename_convert_script}\" --weights \"{filename_darknet_weights}\" --output \"{filename_converted_weights}\""
      ],
      "execution_count": 4,
      "outputs": [
        {
          "output_type": "stream",
          "text": [
            "2020-12-22 12:56:30.611351: I tensorflow/stream_executor/platform/default/dso_loader.cc:49] Successfully opened dynamic library libcudnn.so.7\n",
            "2020-12-22 12:56:35.628119: I tensorflow/stream_executor/platform/default/dso_loader.cc:49] Successfully opened dynamic library libcublas.so.10\n",
            "I1222 12:56:37.581290 139766677772160 convert.py:31] sanity check passed\n",
            "I1222 12:56:39.221966 139766677772160 convert.py:34] weights saved\n"
          ],
          "name": "stdout"
        }
      ]
    },
    {
      "cell_type": "code",
      "metadata": {
        "id": "FX2xEInNhE6u"
      },
      "source": [
        "import os\r\n",
        "os.remove(filename_convert_script)"
      ],
      "execution_count": 5,
      "outputs": []
    },
    {
      "cell_type": "markdown",
      "metadata": {
        "id": "rgPD7rbDhkMG"
      },
      "source": [
        "## START BELOW ##\r\n"
      ]
    },
    {
      "cell_type": "code",
      "metadata": {
        "id": "cP0JynKVheGF"
      },
      "source": [
        "import time\r\n",
        "from absl import app, flags, logging\r\n",
        "from absl.flags import FLAGS\r\n",
        "import cv2\r\n",
        "import numpy as np\r\n",
        "import tensorflow as tf\r\n",
        "from yolov3_tf2.models import (YoloV3, YoloV3Tiny)\r\n",
        "from yolov3_tf2.dataset import transform_images, load_tfrecord_dataset\r\n",
        "from yolov3_tf2.utils import draw_outputs\r\n",
        "import sys\r\n",
        "from PIL import Image, ImageFile\r\n",
        "import requests\r\n",
        "\r\n",
        "# Flags are used to define several options for YOLO.\r\n",
        "flags.DEFINE_string('classes', filename_classes, 'path to classes file')\r\n",
        "flags.DEFINE_string('weights', filename_converted_weights, 'path to weights file')\r\n",
        "flags.DEFINE_boolean('tiny', False, 'yolov3 or yolov3-tiny')\r\n",
        "flags.DEFINE_integer('size', 416, 'resize images to')\r\n",
        "flags.DEFINE_string('tfrecord', None, 'tfrecord instead of image')\r\n",
        "flags.DEFINE_integer('num_classes', 80, 'number of classes in the model')\r\n",
        "FLAGS([sys.argv[0]])\r\n",
        "\r\n",
        "# Locate devices to run YOLO on (e.g. GPU)\r\n",
        "physical_devices = tf.config.experimental.list_physical_devices('GPU')\r\n",
        "if len(physical_devices) > 0:\r\n",
        "    tf.config.experimental.set_memory_growth(physical_devices[0], True)"
      ],
      "execution_count": 6,
      "outputs": []
    },
    {
      "cell_type": "code",
      "metadata": {
        "colab": {
          "base_uri": "https://localhost:8080/"
        },
        "id": "Qj7rhiTbheIJ",
        "outputId": "b53b09d8-c78c-4a09-a1d5-ff64d3178b28"
      },
      "source": [
        "# This assignment does not use the \"Tiny version\"\r\n",
        "if FLAGS.tiny:\r\n",
        "    yolo = YoloV3Tiny(classes=FLAGS.num_classes)\r\n",
        "else:\r\n",
        "    yolo = YoloV3(classes=FLAGS.num_classes)\r\n",
        "\r\n",
        "# Load weights and classes\r\n",
        "yolo.load_weights(FLAGS.weights).expect_partial()\r\n",
        "print('weights loaded')\r\n",
        "\r\n",
        "class_names = [c.strip() for c in open(FLAGS.classes).readlines()]\r\n",
        "print('classes loaded')"
      ],
      "execution_count": 7,
      "outputs": [
        {
          "output_type": "stream",
          "text": [
            "weights loaded\n",
            "classes loaded\n"
          ],
          "name": "stdout"
        }
      ]
    },
    {
      "cell_type": "code",
      "metadata": {
        "colab": {
          "base_uri": "https://localhost:8080/"
        },
        "id": "VgMCunJKhpSu",
        "outputId": "0ef4900d-1871-4298-bdb6-7d4165ac725a"
      },
      "source": [
        "import pandas as pd\r\n",
        "\r\n",
        "i = 1\r\n",
        "url = f\"https://data.heatonresearch.com/data/t81-558/sidewalk/sidewalk{i}.png\"\r\n",
        "response = requests.get(url)\r\n",
        "img_raw = tf.image.decode_image(response.content, channels=3)\r\n",
        "\r\n",
        "# Preprocess image\r\n",
        "img = tf.expand_dims(img_raw, 0)\r\n",
        "img = transform_images(img, FLAGS.size)\r\n",
        "\r\n",
        "# Desired threshold (any sub-image below this confidence level will be ignored.)\r\n",
        "FLAGS.yolo_score_threshold = 0.1\r\n",
        "\r\n",
        "# Recognize and report results\r\n",
        "boxes, scores, classes, nums = yolo(img)\r\n",
        "\r\n",
        "# Desired threshold (any sub-image below this confidence level will be ignored.)\r\n",
        "FLAGS.yolo_score_threshold = 0.1\r\n",
        "\r\n",
        "submit_df = pd.DataFrame()\r\n",
        "\r\n",
        "print('detections:')\r\n",
        "for i in range(nums[0]):\r\n",
        "    cls = class_names[int(classes[0][i])]\r\n",
        "    score = np.array(scores[0][i])\r\n",
        "    box = np.array(boxes[0][i])\r\n",
        "    print(f\"\\t{cls}, {score}, {box}\")\r\n"
      ],
      "execution_count": 47,
      "outputs": [
        {
          "output_type": "stream",
          "text": [
            "detections:\n",
            "\tperson, 0.8610939383506775, [0.6191845  0.59739566 0.6455239  0.6964505 ]\n",
            "test 0\n",
            "\tperson, 0.8247124552726746, [0.5645817 0.6453511 0.595969  0.7455805]\n",
            "test 1\n",
            "\tperson, 0.79351407289505, [0.6079407  0.69781303 0.6366278  0.7886913 ]\n",
            "test 2\n",
            "\tperson, 0.7164221405982971, [0.6633641 0.6810441 0.6887379 0.7944299]\n",
            "test 3\n",
            "\tperson, 0.6968550682067871, [0.09189358 0.33121657 0.111054   0.37928265]\n",
            "test 4\n",
            "\tperson, 0.6268397569656372, [0.11293058 0.32814595 0.1336746  0.38183174]\n",
            "test 5\n",
            "\tperson, 0.5897690057754517, [0.6063562  0.754396   0.63623744 0.84774655]\n",
            "test 6\n",
            "\tperson, 0.43654847145080566, [0.8495312 0.4620815 0.8663175 0.5087753]\n",
            "test 7\n",
            "\tperson, 0.4356961250305176, [0.43019527 0.74990773 0.47327548 0.8516606 ]\n",
            "test 8\n",
            "\tperson, 0.4281291961669922, [0.59075445 0.6240619  0.61355954 0.6932853 ]\n",
            "test 9\n",
            "\tperson, 0.39086875319480896, [0.808963  0.5757502 0.8373168 0.6760718]\n",
            "test 10\n",
            "\tperson, 0.37690871953964233, [0.5117131  0.60740215 0.5481817  0.71740025]\n",
            "test 11\n",
            "\tperson, 0.37344589829444885, [0.42949548 0.7256865  0.46626833 0.79150695]\n",
            "test 12\n",
            "\tperson, 0.3069878816604614, [0.3984463  0.5203366  0.4362013  0.61008453]\n",
            "test 13\n",
            "\tperson, 0.3038461208343506, [0.5358126  0.6031282  0.56915295 0.7174909 ]\n",
            "test 14\n",
            "\tperson, 0.2955860495567322, [0.65262705 0.7223847  0.67923063 0.8030238 ]\n",
            "test 15\n",
            "\tperson, 0.2951661944389343, [0.7784145  0.7773565  0.80293584 0.90131044]\n",
            "test 16\n",
            "\tmotorbike, 0.2879984378814697, [0.50301605 0.65149045 0.54730684 0.72112453]\n",
            "test 17\n",
            "\tperson, 0.226292684674263, [0.55625015 0.63573825 0.58670956 0.7355976 ]\n",
            "test 18\n",
            "\tmotorbike, 0.2003164440393448, [0.4301363  0.7773609  0.47228858 0.85768104]\n",
            "test 19\n",
            "\tmotorbike, 0.1963585764169693, [0.39544085 0.78764945 0.43075624 0.85294145]\n",
            "test 20\n",
            "\tperson, 0.19133204221725464, [0.76667327 0.47130704 0.78793555 0.5575557 ]\n",
            "test 21\n",
            "\tbicycle, 0.1506638079881668, [0.4301363  0.7773609  0.47228858 0.85768104]\n",
            "test 22\n",
            "\tperson, 0.13832353055477142, [0.8051935  0.4202181  0.83031243 0.4867506 ]\n",
            "test 23\n",
            "\tperson, 0.1335996836423874, [0.75360006 0.4718305  0.7774052  0.55769   ]\n",
            "test 24\n",
            "\tbicycle, 0.13281355798244476, [0.39544085 0.78764945 0.43075624 0.85294145]\n",
            "test 25\n",
            "\tbicycle, 0.13062629103660583, [0.49793977 0.6538797  0.561223   0.72036964]\n",
            "test 26\n",
            "\tperson, 0.11089739203453064, [0.5361232  0.59820485 0.5715708  0.66090786]\n",
            "test 27\n",
            "\tperson, 0.10892567783594131, [0.43477708 0.723783   0.45917106 0.767683  ]\n",
            "test 28\n",
            "\tbench, 0.10668456554412842, [0.446218   0.3652647  0.49337965 0.39149672]\n",
            "test 29\n",
            "\tmotorbike, 0.10645316541194916, [0.7992575  0.61630136 0.8361037  0.67813164]\n",
            "test 30\n"
          ],
          "name": "stdout"
        }
      ]
    },
    {
      "cell_type": "code",
      "metadata": {
        "id": "yCdPOHEYimnR"
      },
      "source": [
        "class_clms = ['person',\t'car',\t'bicycle',\t'motorbike',\t'umbrella',\t'handbag']\r\n",
        "class_dict = {class_names[i]:i for i in range(len(class_names))}"
      ],
      "execution_count": 56,
      "outputs": []
    },
    {
      "cell_type": "code",
      "metadata": {
        "colab": {
          "base_uri": "https://localhost:8080/",
          "height": 49
        },
        "id": "UPsTpuZNpVXq",
        "outputId": "2f860423-e741-466c-99cb-0ac26acfb0c9"
      },
      "source": [
        "submit_df = pd.DataFrame(columns=[\"index\",'person',\t'car',\t'bicycle',\t'motorbike',\t'umbrella',\t'handbag'])\r\n",
        "\r\n",
        "display(submit_df)\r\n"
      ],
      "execution_count": 122,
      "outputs": [
        {
          "output_type": "display_data",
          "data": {
            "text/html": [
              "<div>\n",
              "<style scoped>\n",
              "    .dataframe tbody tr th:only-of-type {\n",
              "        vertical-align: middle;\n",
              "    }\n",
              "\n",
              "    .dataframe tbody tr th {\n",
              "        vertical-align: top;\n",
              "    }\n",
              "\n",
              "    .dataframe thead th {\n",
              "        text-align: right;\n",
              "    }\n",
              "</style>\n",
              "<table border=\"1\" class=\"dataframe\">\n",
              "  <thead>\n",
              "    <tr style=\"text-align: right;\">\n",
              "      <th></th>\n",
              "      <th>index</th>\n",
              "      <th>person</th>\n",
              "      <th>car</th>\n",
              "      <th>bicycle</th>\n",
              "      <th>motorbike</th>\n",
              "      <th>umbrella</th>\n",
              "      <th>handbag</th>\n",
              "    </tr>\n",
              "  </thead>\n",
              "  <tbody>\n",
              "  </tbody>\n",
              "</table>\n",
              "</div>"
            ],
            "text/plain": [
              "Empty DataFrame\n",
              "Columns: [index, person, car, bicycle, motorbike, umbrella, handbag]\n",
              "Index: []"
            ]
          },
          "metadata": {
            "tags": []
          }
        }
      ]
    },
    {
      "cell_type": "code",
      "metadata": {
        "colab": {
          "base_uri": "https://localhost:8080/",
          "height": 390
        },
        "id": "FsrTbedahpVB",
        "outputId": "99c570b1-3a55-4443-d02d-e888f4d28e4a"
      },
      "source": [
        "FLAGS.yolo_score_threshold = 0.1\r\n",
        "\r\n",
        "for i in range(1,11):\r\n",
        "  url = f\"https://data.heatonresearch.com/data/t81-558/sidewalk/sidewalk{i}.png\"\r\n",
        "  response = requests.get(url)\r\n",
        "  img_raw = tf.image.decode_image(response.content, channels=3)\r\n",
        "\r\n",
        "  # Preprocess image\r\n",
        "  img = tf.expand_dims(img_raw, 0)\r\n",
        "  img = transform_images(img, FLAGS.size)\r\n",
        "\r\n",
        "  # Recognize and report results\r\n",
        "  boxes, scores, classes, nums = yolo(img)\r\n",
        "\r\n",
        "  class_found = np.asarray(classes[0,:])\r\n",
        "  class_found = class_found.tolist()[:nums[0]]\r\n",
        "  vals = [i]\r\n",
        "  for name in class_clms:\r\n",
        "    x = class_found.count(class_dict[name])\r\n",
        "    vals.append(x)\r\n",
        "  submit_df.loc[i-1] = vals\r\n",
        "submit_df.set_index(\"index\",inplace=True)\r\n",
        "display(submit_df)"
      ],
      "execution_count": 124,
      "outputs": [
        {
          "output_type": "display_data",
          "data": {
            "text/html": [
              "<div>\n",
              "<style scoped>\n",
              "    .dataframe tbody tr th:only-of-type {\n",
              "        vertical-align: middle;\n",
              "    }\n",
              "\n",
              "    .dataframe tbody tr th {\n",
              "        vertical-align: top;\n",
              "    }\n",
              "\n",
              "    .dataframe thead th {\n",
              "        text-align: right;\n",
              "    }\n",
              "</style>\n",
              "<table border=\"1\" class=\"dataframe\">\n",
              "  <thead>\n",
              "    <tr style=\"text-align: right;\">\n",
              "      <th></th>\n",
              "      <th>person</th>\n",
              "      <th>car</th>\n",
              "      <th>bicycle</th>\n",
              "      <th>motorbike</th>\n",
              "      <th>umbrella</th>\n",
              "      <th>handbag</th>\n",
              "    </tr>\n",
              "    <tr>\n",
              "      <th>index</th>\n",
              "      <th></th>\n",
              "      <th></th>\n",
              "      <th></th>\n",
              "      <th></th>\n",
              "      <th></th>\n",
              "      <th></th>\n",
              "    </tr>\n",
              "  </thead>\n",
              "  <tbody>\n",
              "    <tr>\n",
              "      <th>1</th>\n",
              "      <td>23</td>\n",
              "      <td>0</td>\n",
              "      <td>3</td>\n",
              "      <td>4</td>\n",
              "      <td>0</td>\n",
              "      <td>0</td>\n",
              "    </tr>\n",
              "    <tr>\n",
              "      <th>2</th>\n",
              "      <td>27</td>\n",
              "      <td>1</td>\n",
              "      <td>8</td>\n",
              "      <td>2</td>\n",
              "      <td>0</td>\n",
              "      <td>0</td>\n",
              "    </tr>\n",
              "    <tr>\n",
              "      <th>3</th>\n",
              "      <td>29</td>\n",
              "      <td>0</td>\n",
              "      <td>0</td>\n",
              "      <td>0</td>\n",
              "      <td>3</td>\n",
              "      <td>0</td>\n",
              "    </tr>\n",
              "    <tr>\n",
              "      <th>4</th>\n",
              "      <td>51</td>\n",
              "      <td>0</td>\n",
              "      <td>6</td>\n",
              "      <td>1</td>\n",
              "      <td>1</td>\n",
              "      <td>1</td>\n",
              "    </tr>\n",
              "    <tr>\n",
              "      <th>5</th>\n",
              "      <td>49</td>\n",
              "      <td>0</td>\n",
              "      <td>9</td>\n",
              "      <td>0</td>\n",
              "      <td>0</td>\n",
              "      <td>0</td>\n",
              "    </tr>\n",
              "    <tr>\n",
              "      <th>6</th>\n",
              "      <td>61</td>\n",
              "      <td>0</td>\n",
              "      <td>2</td>\n",
              "      <td>1</td>\n",
              "      <td>1</td>\n",
              "      <td>0</td>\n",
              "    </tr>\n",
              "    <tr>\n",
              "      <th>7</th>\n",
              "      <td>52</td>\n",
              "      <td>0</td>\n",
              "      <td>0</td>\n",
              "      <td>0</td>\n",
              "      <td>0</td>\n",
              "      <td>0</td>\n",
              "    </tr>\n",
              "    <tr>\n",
              "      <th>8</th>\n",
              "      <td>56</td>\n",
              "      <td>0</td>\n",
              "      <td>1</td>\n",
              "      <td>0</td>\n",
              "      <td>0</td>\n",
              "      <td>0</td>\n",
              "    </tr>\n",
              "    <tr>\n",
              "      <th>9</th>\n",
              "      <td>33</td>\n",
              "      <td>1</td>\n",
              "      <td>0</td>\n",
              "      <td>0</td>\n",
              "      <td>1</td>\n",
              "      <td>0</td>\n",
              "    </tr>\n",
              "    <tr>\n",
              "      <th>10</th>\n",
              "      <td>39</td>\n",
              "      <td>0</td>\n",
              "      <td>1</td>\n",
              "      <td>0</td>\n",
              "      <td>0</td>\n",
              "      <td>0</td>\n",
              "    </tr>\n",
              "  </tbody>\n",
              "</table>\n",
              "</div>"
            ],
            "text/plain": [
              "      person car bicycle motorbike umbrella handbag\n",
              "index                                              \n",
              "1         23   0       3         4        0       0\n",
              "2         27   1       8         2        0       0\n",
              "3         29   0       0         0        3       0\n",
              "4         51   0       6         1        1       1\n",
              "5         49   0       9         0        0       0\n",
              "6         61   0       2         1        1       0\n",
              "7         52   0       0         0        0       0\n",
              "8         56   0       1         0        0       0\n",
              "9         33   1       0         0        1       0\n",
              "10        39   0       1         0        0       0"
            ]
          },
          "metadata": {
            "tags": []
          }
        }
      ]
    },
    {
      "cell_type": "code",
      "metadata": {
        "id": "inh8wqFAszCh"
      },
      "source": [
        ""
      ],
      "execution_count": null,
      "outputs": []
    },
    {
      "cell_type": "code",
      "metadata": {
        "id": "2Iy0KoBUhpXn"
      },
      "source": [
        ""
      ],
      "execution_count": null,
      "outputs": []
    },
    {
      "cell_type": "code",
      "metadata": {
        "id": "Dyc2_tblheJ3"
      },
      "source": [
        ""
      ],
      "execution_count": null,
      "outputs": []
    }
  ]
}