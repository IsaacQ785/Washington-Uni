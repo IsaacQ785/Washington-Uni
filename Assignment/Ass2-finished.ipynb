{
  "nbformat": 4,
  "nbformat_minor": 0,
  "metadata": {
    "colab": {
      "name": "Untitled2.ipynb",
      "provenance": [],
      "authorship_tag": "ABX9TyM4oiuaS5/mKMiLBtmMhMr6",
      "include_colab_link": true
    },
    "kernelspec": {
      "name": "python3",
      "display_name": "Python 3"
    }
  },
  "cells": [
    {
      "cell_type": "markdown",
      "metadata": {
        "id": "view-in-github",
        "colab_type": "text"
      },
      "source": [
        "<a href=\"https://colab.research.google.com/github/IsaacQ785/Washington-Uni/blob/Assignments/Assignment/Ass2-finished.ipynb\" target=\"_parent\"><img src=\"https://colab.research.google.com/assets/colab-badge.svg\" alt=\"Open In Colab\"/></a>"
      ]
    },
    {
      "cell_type": "code",
      "metadata": {
        "id": "GG9vzKwqYdCb"
      },
      "source": [
        "import os\r\n",
        "import pandas as pd\r\n",
        "from scipy.stats import zscore\r\n",
        "\r\n",
        "# This is your student key that I emailed to you at the beginnning of the semester.\r\n",
        "key = \"Gx5en9cEVvaZnjut6vfLm1HG4ZO4PsI32sgldAXj\"  # This is an example key and will not work.\r\n",
        "\r\n",
        "# You must also identify your source file.  (modify for your local setup)\r\n",
        "# file='/content/drive/My Drive/Colab Notebooks/assignment_yourname_class2.ipynb'  # Google CoLab\r\n",
        "# file='C:\\\\Users\\\\jeffh\\\\projects\\\\t81_558_deep_learning\\\\assignments\\\\assignment_yourname_class2.ipynb'  # Windows\r\n",
        "file='/Users/jheaton/projects/t81_558_deep_learning/assignments/assignment_yourname_class2.ipynb'  # Mac/Linux\r\n",
        "\r\n",
        "# Begin assignment\r\n",
        "df = pd.read_csv(\"http://data.heatonresearch.com/data/t81-558/datasets/reg-33-data.csv\")\r\n",
        "\r\n",
        "df.drop('id',1,inplace=True)\r\n",
        "\r\n",
        "# Your code goes here!\r\n",
        "\r\n",
        "df.drop(\"convention\",axis=1,inplace=True)\r\n",
        "df.drop(\"usage\",axis=1,inplace=True)\r\n",
        "df.drop(\"region\",axis=1,inplace=True)\r\n",
        "df.drop(\"code\",axis=1,inplace=True)\r\n",
        "df.drop(\"power\",axis=1,inplace=True)\r\n",
        "df.drop(\"weight\",axis=1,inplace=True)\r\n",
        "df.drop(\"country\",axis=1,inplace=True)\r\n",
        "df.drop(\"target\",axis=1,inplace=True)\r\n",
        "\r\n",
        "df[\"ratio\"] = df[\"max\"]/df[\"number\"]\r\n",
        "length_med = df[\"length\"].dropna().median()\r\n",
        "height_med = df[\"height\"].dropna().median()\r\n",
        "\r\n",
        "df[\"length\"].fillna(length_med,inplace=True)\r\n",
        "df[\"height\"].fillna(height_med,inplace=True)\r\n",
        "df[\"height\"] = zscore(df[\"height\"])\r\n",
        "\r\n",
        "dummy_cats = pd.get_dummies(df[\"cat2\"],prefix=\"cat2\")\r\n",
        "dummy_items = pd.get_dummies(df[\"item\"],prefix=\"item\")\r\n",
        "df = pd.concat([df,dummy_cats,dummy_items],axis=1)\r\n",
        "df.drop(\"cat2\",axis=1,inplace=True)\r\n",
        "df.drop(\"item\",axis=1,inplace=True)\r\n",
        "\r\n",
        "# Submit assignment\r\n",
        "# submit(source_file=file,data=[df],key=key,no=2)"
      ],
      "execution_count": 65,
      "outputs": []
    }
  ]
}